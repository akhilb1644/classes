{
 "cells": [
  {
   "cell_type": "code",
   "execution_count": 11,
   "id": "7b8b04b9",
   "metadata": {},
   "outputs": [],
   "source": [
    "class Person:\n",
    "    def __init__(self,firstName,lastName,birthplace,id):\n",
    "        self.firstName = firstName\n",
    "        self.lastName = lastName\n",
    "        self.birthplace = birthplace\n",
    "        self.id = id\n",
    "        \n",
    "    def show_id(func):\n",
    "        def reg(self,*args,**kwargs):\n",
    "            print(\"\\nYour ID has been shown.\")\n",
    "            func(self,*args,**kwargs)\n",
    "        return reg\n",
    "    \n",
    "    @show_id\n",
    "    def take_debt(self,dollars):\n",
    "        print(f\"A debt of ${dollars} has been taken out.\")\n",
    "    \n",
    "    @show_id\n",
    "    def fly_to_paris(self):\n",
    "        print(\"I am flying to Paris.\")\n",
    "        \n",
    "    def print_details(self):\n",
    "        print(f\"My name is {self.firstName.title()} {self.lastName.title()} and I was born in the {self.birthplace}. My ID is {self.id}.\")"
   ]
  },
  {
   "cell_type": "code",
   "execution_count": 12,
   "id": "9090e71e",
   "metadata": {},
   "outputs": [
    {
     "name": "stdout",
     "output_type": "stream",
     "text": [
      "\n",
      "Your ID has been shown.\n",
      "I am flying to Paris.\n",
      "My name is Ronald Reagan and I was born in the Tampico. My ID is 12345678\n"
     ]
    }
   ],
   "source": [
    "ronald = Person(\"Ronald\",\"Reagan\",\"Tampico\",12345678)\n",
    "ronald.fly_to_paris()\n",
    "ronald.print_details()"
   ]
  },
  {
   "cell_type": "code",
   "execution_count": null,
   "id": "28414590",
   "metadata": {},
   "outputs": [],
   "source": []
  }
 ],
 "metadata": {
  "kernelspec": {
   "display_name": "Python 3 (ipykernel)",
   "language": "python",
   "name": "python3"
  },
  "language_info": {
   "codemirror_mode": {
    "name": "ipython",
    "version": 3
   },
   "file_extension": ".py",
   "mimetype": "text/x-python",
   "name": "python",
   "nbconvert_exporter": "python",
   "pygments_lexer": "ipython3",
   "version": "3.9.13"
  }
 },
 "nbformat": 4,
 "nbformat_minor": 5
}
